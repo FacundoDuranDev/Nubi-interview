{
 "cells": [
  {
   "cell_type": "code",
   "execution_count": 1,
   "id": "dceaf274",
   "metadata": {},
   "outputs": [],
   "source": [
    "from pyspark.sql import SparkSession\n",
    "from pyspark.sql import functions as F\n"
   ]
  },
  {
   "cell_type": "code",
   "execution_count": 2,
   "id": "62521203",
   "metadata": {},
   "outputs": [
    {
     "name": "stderr",
     "output_type": "stream",
     "text": [
      "22/06/09 14:02:13 WARN Utils: Your hostname, fduran-ThinkPad-T490 resolves to a loopback address: 127.0.1.1; using 192.168.0.224 instead (on interface wlp0s20f3)\n",
      "22/06/09 14:02:13 WARN Utils: Set SPARK_LOCAL_IP if you need to bind to another address\n",
      "WARNING: An illegal reflective access operation has occurred\n",
      "WARNING: Illegal reflective access by org.apache.spark.unsafe.Platform (file:/usr/local/spark/jars/spark-unsafe_2.12-3.2.1.jar) to constructor java.nio.DirectByteBuffer(long,int)\n",
      "WARNING: Please consider reporting this to the maintainers of org.apache.spark.unsafe.Platform\n",
      "WARNING: Use --illegal-access=warn to enable warnings of further illegal reflective access operations\n",
      "WARNING: All illegal access operations will be denied in a future release\n",
      "Using Spark's default log4j profile: org/apache/spark/log4j-defaults.properties\n",
      "Setting default log level to \"WARN\".\n",
      "To adjust logging level use sc.setLogLevel(newLevel). For SparkR, use setLogLevel(newLevel).\n",
      "22/06/09 14:02:13 WARN NativeCodeLoader: Unable to load native-hadoop library for your platform... using builtin-java classes where applicable\n"
     ]
    }
   ],
   "source": [
    "spark = SparkSession.builder.appName('pract').getOrCreate()\n"
   ]
  },
  {
   "cell_type": "code",
   "execution_count": 3,
   "id": "1b97de0b",
   "metadata": {},
   "outputs": [
    {
     "name": "stderr",
     "output_type": "stream",
     "text": [
      "                                                                                \r"
     ]
    }
   ],
   "source": [
    "df_pyspark = spark.read.json('Sellers.json')\n"
   ]
  },
  {
   "cell_type": "code",
   "execution_count": 4,
   "id": "a715ea9b",
   "metadata": {},
   "outputs": [
    {
     "name": "stdout",
     "output_type": "stream",
     "text": [
      "root\n",
      " |-- body: struct (nullable = true)\n",
      " |    |-- address: struct (nullable = true)\n",
      " |    |    |-- city: string (nullable = true)\n",
      " |    |    |-- state: string (nullable = true)\n",
      " |    |-- buyer_reputation: struct (nullable = true)\n",
      " |    |    |-- tags: array (nullable = true)\n",
      " |    |    |    |-- element: string (containsNull = true)\n",
      " |    |-- country_id: string (nullable = true)\n",
      " |    |-- id: long (nullable = true)\n",
      " |    |-- logo: string (nullable = true)\n",
      " |    |-- nickname: string (nullable = true)\n",
      " |    |-- permalink: string (nullable = true)\n",
      " |    |-- points: long (nullable = true)\n",
      " |    |-- registration_date: string (nullable = true)\n",
      " |    |-- seller_reputation: struct (nullable = true)\n",
      " |    |    |-- level_id: string (nullable = true)\n",
      " |    |    |-- power_seller_status: string (nullable = true)\n",
      " |    |    |-- transactions: struct (nullable = true)\n",
      " |    |    |    |-- canceled: long (nullable = true)\n",
      " |    |    |    |-- completed: long (nullable = true)\n",
      " |    |    |    |-- period: string (nullable = true)\n",
      " |    |    |    |-- ratings: struct (nullable = true)\n",
      " |    |    |    |    |-- negative: long (nullable = true)\n",
      " |    |    |    |    |-- neutral: long (nullable = true)\n",
      " |    |    |    |    |-- positive: long (nullable = true)\n",
      " |    |    |    |-- total: long (nullable = true)\n",
      " |    |-- site_id: string (nullable = true)\n",
      " |    |-- status: struct (nullable = true)\n",
      " |    |    |-- site_status: string (nullable = true)\n",
      " |    |-- tags: array (nullable = true)\n",
      " |    |    |-- element: string (containsNull = true)\n",
      " |    |-- user_type: string (nullable = true)\n",
      " |-- code: long (nullable = true)\n",
      "\n"
     ]
    }
   ],
   "source": [
    "df_pyspark.printSchema()"
   ]
  },
  {
   "cell_type": "code",
   "execution_count": null,
   "id": "a17cbd35",
   "metadata": {},
   "outputs": [],
   "source": []
  },
  {
   "cell_type": "code",
   "execution_count": 23,
   "id": "889ebc43",
   "metadata": {},
   "outputs": [],
   "source": [
    "df = df_pyspark.withColumn('body', F.array(F.expr('body')))"
   ]
  },
  {
   "cell_type": "code",
   "execution_count": 35,
   "id": "5d1093ac",
   "metadata": {},
   "outputs": [],
   "source": [
    "df = df_pyspark.selectExpr(\n",
    "    'body.site_id AS SiteId',\n",
    "    'body.id as SellerId',\n",
    "    'body.nickname as SellerNickname',\n",
    "    'body.points as SellerPoints')"
   ]
  },
  {
   "cell_type": "code",
   "execution_count": 36,
   "id": "291d8f6c",
   "metadata": {},
   "outputs": [
    {
     "name": "stdout",
     "output_type": "stream",
     "text": [
      "+------+---------+----------------+------------+\n",
      "|SiteId| SellerId|  SellerNickname|SellerPoints|\n",
      "+------+---------+----------------+------------+\n",
      "|   MPE|298734964|  MARIELATAQUIRE|           2|\n",
      "|   MPE|520133997| ISABELLADELPOZO|           1|\n",
      "|   MPE|285674870|ERICKLOPEZUSMSYA|           2|\n",
      "|   MPE| 48893023|    MARCELASUSAN|           1|\n",
      "|   MPE|205264135|     GOBR7283790|           1|\n",
      "+------+---------+----------------+------------+\n",
      "\n"
     ]
    }
   ],
   "source": [
    "df.filter(df.SellerPoints > 0).show()"
   ]
  },
  {
   "cell_type": "code",
   "execution_count": 39,
   "id": "5d775718",
   "metadata": {},
   "outputs": [
    {
     "name": "stdout",
     "output_type": "stream",
     "text": [
      "+------+---------+--------------------+------------+\n",
      "|SiteId| SellerId|      SellerNickname|SellerPoints|\n",
      "+------+---------+--------------------+------------+\n",
      "|   MPE|684964436|         PHMO1747353|           0|\n",
      "|   MPE|685079498|MELISSASUSANAARVA...|           0|\n",
      "|   MPE|646068761|   YOMIDELGADOSNCHEZ|           0|\n",
      "|   MPE|685310649|DONATILDONATILDEC...|           0|\n",
      "|   MPE|685419864|        VANESSAURNER|           0|\n",
      "|   MPE|685275449|DANIELARUIZRIDRIGUES|           0|\n",
      "|   MPE|603331827|         COVA1031117|           0|\n",
      "|   MPE|580279940|        LORDVENCEDOR|           0|\n",
      "|   MPE|300834652| DANIELAHILARIORAMOS|           0|\n",
      "|   MPE|270322958|JHONANTHONYCAYLLA...|           0|\n",
      "|   MPE|684554092|OSORIOCOLQUIJESSM...|           0|\n",
      "|   MPE|644166286|         GOEL1504737|           0|\n",
      "|   MPE|685449106|  ISABELSNCHEZMEDINA|           0|\n",
      "+------+---------+--------------------+------------+\n",
      "\n"
     ]
    }
   ],
   "source": [
    "df.filter(df.SellerPoints == 0).show()"
   ]
  },
  {
   "cell_type": "code",
   "execution_count": 71,
   "id": "1c9aaa0f",
   "metadata": {},
   "outputs": [],
   "source": [
    "site_ids = df.filter(df.SellerPoints < 0).select(\"SiteId\").distinct().collect()"
   ]
  },
  {
   "cell_type": "code",
   "execution_count": 72,
   "id": "c613b95c",
   "metadata": {},
   "outputs": [
    {
     "name": "stdout",
     "output_type": "stream",
     "text": [
      "2022 09 06\n"
     ]
    }
   ],
   "source": [
    "full_date = date.today().strftime(\"%Y%m%d\")\n",
    "year = full_date[0:4]\n",
    "month = full_date[4:6]\n",
    "day = full_date[6:]\n",
    "print(year, day, month)"
   ]
  },
  {
   "cell_type": "code",
   "execution_count": 95,
   "id": "af575b64",
   "metadata": {},
   "outputs": [],
   "source": [
    "import os\n",
    "\n",
    "for site_id in site_ids:\n",
    "    directorio = os.getcwd() + \"/\"+ site_id[0]+\"/\"+year +\"/\"+ month + \"/\"+ day\n",
    "    df.filter((df.SellerPoints == 0) & (df.SiteId  == site_id[0])).write.mode('overwrite').option('header', True).format('csv').save(directorio + \"/Cero\")\n",
    "    df.filter((df.SellerPoints > 0)& (df.SiteId == site_id[0])).write.mode('overwrite').option('header', True).format('csv').save(directorio + \"/Positivo\")\n",
    "    df.filter((df.SellerPoints < 0) & (df.SiteId == site_id[0])).write.mode('overwrite').option('header', True).format('csv').save(directorio + \"/Negativo\")\n",
    "    "
   ]
  },
  {
   "cell_type": "code",
   "execution_count": null,
   "id": "8d853473",
   "metadata": {},
   "outputs": [],
   "source": []
  }
 ],
 "metadata": {
  "kernelspec": {
   "display_name": "Python 3 (ipykernel)",
   "language": "python",
   "name": "python3"
  },
  "language_info": {
   "codemirror_mode": {
    "name": "ipython",
    "version": 3
   },
   "file_extension": ".py",
   "mimetype": "text/x-python",
   "name": "python",
   "nbconvert_exporter": "python",
   "pygments_lexer": "ipython3",
   "version": "3.8.10"
  }
 },
 "nbformat": 4,
 "nbformat_minor": 5
}
